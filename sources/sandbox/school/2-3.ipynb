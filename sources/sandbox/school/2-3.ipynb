{
 "cells": [
  {
   "cell_type": "markdown",
   "metadata": {},
   "source": [
    "# 2-3. 基本的な探索 - 線形探索と二分探索の比較"
   ]
  },
  {
   "cell_type": "markdown",
   "metadata": {},
   "source": [
    "### 演習. - 実装例"
   ]
  },
  {
   "cell_type": "code",
   "execution_count": null,
   "metadata": {},
   "outputs": [],
   "source": [
    "sorted_nums = list(range(10000))\n",
    "\n",
    "sum_liner = sum_binary = 0\n",
    "max_liner = max_binary = 0\n",
    "\n",
    "for num in sorted_nums:\n",
    "    # print(num)\n",
    "    count = 0\n",
    "    sol = l_search_count(sorted_nums,num)\n",
    "    if count > max_liner:  # count が現在の max_liner より大きかったら，\n",
    "        max_liner = count  # max_liner に count を代入する\n",
    "    sum_liner += count\n",
    "    # print(\" [線形探索（ソート済）] 場所: \", sol, \", 探索回数: \", count)\n",
    "\n",
    "    count = 0\n",
    "    sol = b_search_count(sorted_nums,num)\n",
    "    if count > max_binary:  # count が現在の max_binary より大きかったら，\n",
    "        max_binary = count  # max_binary に count を代入する\n",
    "    sum_binary += count\n",
    "    # print(\" [二分探索] 場所: \", sol, \", 探索回数: \", count)\n",
    "\n",
    "print(\"線形探索（ソート済）探索回数平均:\", sum_liner / len(sorted_nums))\n",
    "print(\"線形探索（ソート済）探索回数 Max:\", max_liner)\n",
    "print(\"二分探索 探索回数平均:\", sum_binary  / len(sorted_nums))\n",
    "print(\"二分探索 探索回数 Max:\", max_binary)"
   ]
  }
 ],
 "metadata": {
  "kernelspec": {
   "display_name": "Python 3",
   "language": "python",
   "name": "python3"
  },
  "language_info": {
   "codemirror_mode": {
    "name": "ipython",
    "version": 3
   },
   "file_extension": ".py",
   "mimetype": "text/x-python",
   "name": "python",
   "nbconvert_exporter": "python",
   "pygments_lexer": "ipython3",
   "version": "3.10.12"
  }
 },
 "nbformat": 4,
 "nbformat_minor": 2
}
