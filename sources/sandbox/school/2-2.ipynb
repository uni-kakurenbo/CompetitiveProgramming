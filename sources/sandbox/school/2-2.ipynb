{
 "cells": [
  {
   "cell_type": "markdown",
   "metadata": {},
   "source": [
    "# 2-2. 基本的な探索 - 二分探索"
   ]
  },
  {
   "cell_type": "markdown",
   "metadata": {},
   "source": [
    "### 演習. - 実装例"
   ]
  },
  {
   "cell_type": "code",
   "execution_count": null,
   "metadata": {},
   "outputs": [],
   "source": [
    "def b_search(a, p):\n",
    "    left, right = -1, len(a)  # 開区間 (left, right) のうちのどこかにある\n",
    "    while right - left > 1:  # 区間が空でない間\n",
    "        middle = (left + right) // 2  # 区間の中央の位置を求める\n",
    "        target = a[middle]  # 中央にある要素の値\n",
    "        if target == p:  # p に等しいなら\n",
    "            return middle  # p が見つかったということなので，その位置を返す\n",
    "        if target < p:  # p より小さいなら\n",
    "            left = middle  # そこより前に p は絶対ない\n",
    "        else:  # p より大きいなら\n",
    "            right = middle  # そこより後ろに p は絶対ない\n",
    "    return -1  # 見つからなかったら，-1 を返す"
   ]
  }
 ],
 "metadata": {
  "kernelspec": {
   "display_name": "Python 3",
   "language": "python",
   "name": "python3"
  },
  "language_info": {
   "codemirror_mode": {
    "name": "ipython",
    "version": 3
   },
   "file_extension": ".py",
   "mimetype": "text/x-python",
   "name": "python",
   "nbconvert_exporter": "python",
   "pygments_lexer": "ipython3",
   "version": "3.10.12"
  }
 },
 "nbformat": 4,
 "nbformat_minor": 2
}
