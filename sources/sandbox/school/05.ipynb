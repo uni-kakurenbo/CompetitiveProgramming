{
 "cells": [
  {
   "cell_type": "markdown",
   "metadata": {},
   "source": [
    "# 05. 応用的プログラミング２"
   ]
  },
  {
   "cell_type": "markdown",
   "metadata": {},
   "source": [
    "### 演習 1. - 実装例"
   ]
  },
  {
   "cell_type": "code",
   "execution_count": 1,
   "metadata": {},
   "outputs": [],
   "source": [
    "def kasan(p):\n",
    "    res = 0  # assign 0 to res\n",
    "    for _ in range(p):  # repeat p times\n",
    "        res = res + 2  # increase res by 2\n",
    "    return res  # return res\n"
   ]
  },
  {
   "cell_type": "markdown",
   "metadata": {},
   "source": [
    "---"
   ]
  },
  {
   "cell_type": "markdown",
   "metadata": {},
   "source": [
    "### 演習 2. - 実装例"
   ]
  },
  {
   "cell_type": "code",
   "execution_count": null,
   "metadata": {},
   "outputs": [],
   "source": [
    "import requests\n",
    "import json\n",
    "\n",
    "url = \"http://zipcloud.ibsnet.co.jp/api/search\"  # set url\n",
    "\n",
    "zip = input(\"your zip code (str) = \")  # ask zip code\n",
    "\n",
    "res = requests.get(url, params = { \"zipcode\" : zip })  # send the request\n",
    "\n",
    "response = json.loads(res.text)  # road requests\n",
    "address = response[\"results\"][0]  # extract an address\n",
    "\n",
    "print(f\"{ address['address1'] }{ address['address2'] }{ address['address3'] }\")  # print results\n"
   ]
  },
  {
   "cell_type": "markdown",
   "metadata": {},
   "source": [
    "---"
   ]
  },
  {
   "cell_type": "markdown",
   "metadata": {},
   "source": [
    "### 演習 3. - 実装例"
   ]
  },
  {
   "cell_type": "code",
   "execution_count": null,
   "metadata": {},
   "outputs": [],
   "source": [
    "import pandas as pd\n",
    "import matplotlib.pyplot as plt\n",
    "\n",
    "df = pd.read_csv('https://www.data.jma.go.jp/obd/stats/data/mdrr/tem_rct/alltable/mntemsadext00_rct.csv', encoding='sjis')\n",
    "plt.scatter(df['観測所番号'], df['18日の最低気温(℃)'], s=50, c=df['前日差（℃）'], cmap=\"Blues\")  # plot\n",
    "plt.colorbar()\n"
   ]
  }
 ],
 "metadata": {
  "kernelspec": {
   "display_name": "Python 3",
   "language": "python",
   "name": "python3"
  },
  "language_info": {
   "codemirror_mode": {
    "name": "ipython",
    "version": 3
   },
   "file_extension": ".py",
   "mimetype": "text/x-python",
   "name": "python",
   "nbconvert_exporter": "python",
   "pygments_lexer": "ipython3",
   "version": "3.10.12"
  }
 },
 "nbformat": 4,
 "nbformat_minor": 2
}
