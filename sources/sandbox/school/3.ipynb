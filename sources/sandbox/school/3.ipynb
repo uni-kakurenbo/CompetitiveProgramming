{
 "cells": [
  {
   "cell_type": "markdown",
   "metadata": {},
   "source": [
    "# 3. 基本的なソート - 選択ソート"
   ]
  },
  {
   "cell_type": "markdown",
   "metadata": {},
   "source": [
    "### 演習 - 実装例"
   ]
  },
  {
   "cell_type": "code",
   "execution_count": null,
   "metadata": {},
   "outputs": [],
   "source": [
    "def selection_sort(a):\n",
    "    for i in range(len(a) - 1):  # 最後の一つ手前まで見る\n",
    "        j = min_index(a, i)  # j を min_index(a, i) (i 番目以降で最も小さい要素の位置) とする\n",
    "        temporary = a[i]  # a[i] の値を temporary に逃がす\n",
    "        a[i] = a[j]  # a[i] に a[j] の値を代入する\n",
    "        a[j] = temporary  # a[i] に temporary (かつての a[i]) の値を代入する\n",
    "    # 上 3 行は a[i], a[j] = a[j], a[i] とも書ける"
   ]
  }
 ],
 "metadata": {
  "kernelspec": {
   "display_name": "Python 3",
   "language": "python",
   "name": "python3"
  },
  "language_info": {
   "codemirror_mode": {
    "name": "ipython",
    "version": 3
   },
   "file_extension": ".py",
   "mimetype": "text/x-python",
   "name": "python",
   "nbconvert_exporter": "python",
   "pygments_lexer": "ipython3",
   "version": "3.10.12"
  }
 },
 "nbformat": 4,
 "nbformat_minor": 2
}
